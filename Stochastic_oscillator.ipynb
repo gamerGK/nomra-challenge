{
  "nbformat": 4,
  "nbformat_minor": 0,
  "metadata": {
    "colab": {
      "name": "Stochastic_oscillator.ipynb",
      "provenance": [],
      "authorship_tag": "ABX9TyMtF0WDULYoJGNYE8Jay4DA",
      "include_colab_link": true
    },
    "kernelspec": {
      "name": "python3",
      "display_name": "Python 3"
    },
    "language_info": {
      "name": "python"
    }
  },
  "cells": [
    {
      "cell_type": "markdown",
      "metadata": {
        "id": "view-in-github",
        "colab_type": "text"
      },
      "source": [
        "<a href=\"https://colab.research.google.com/github/harsh16kh/nomura_challenge/blob/main/Stochastic_oscillator.ipynb\" target=\"_parent\"><img src=\"https://colab.research.google.com/assets/colab-badge.svg\" alt=\"Open In Colab\"/></a>"
      ]
    },
    {
      "cell_type": "code",
      "execution_count": null,
      "metadata": {
        "id": "L_Y1Xop780CQ",
        "colab": {
          "base_uri": "https://localhost:8080/",
          "height": 373
        },
        "outputId": "ea29640a-fd27-4e11-aaef-af515b0ff51e"
      },
      "outputs": [
        {
          "output_type": "error",
          "ename": "ModuleNotFoundError",
          "evalue": "ignored",
          "traceback": [
            "\u001b[0;31m---------------------------------------------------------------------------\u001b[0m",
            "\u001b[0;31mModuleNotFoundError\u001b[0m                       Traceback (most recent call last)",
            "\u001b[0;32m<ipython-input-1-f01c1ba1df0d>\u001b[0m in \u001b[0;36m<module>\u001b[0;34m()\u001b[0m\n\u001b[0;32m----> 1\u001b[0;31m \u001b[0;32mimport\u001b[0m \u001b[0mbacktrader\u001b[0m \u001b[0;32mas\u001b[0m \u001b[0mbt\u001b[0m\u001b[0;34m\u001b[0m\u001b[0;34m\u001b[0m\u001b[0m\n\u001b[0m\u001b[1;32m      2\u001b[0m \u001b[0;32mimport\u001b[0m \u001b[0mlogging\u001b[0m\u001b[0;34m\u001b[0m\u001b[0;34m\u001b[0m\u001b[0m\n\u001b[1;32m      3\u001b[0m \u001b[0;32mimport\u001b[0m \u001b[0mdatetime\u001b[0m\u001b[0;34m\u001b[0m\u001b[0;34m\u001b[0m\u001b[0m\n\u001b[1;32m      4\u001b[0m \u001b[0;32mimport\u001b[0m \u001b[0mos\u001b[0m\u001b[0;34m.\u001b[0m\u001b[0mpath\u001b[0m\u001b[0;34m\u001b[0m\u001b[0;34m\u001b[0m\u001b[0m\n\u001b[1;32m      5\u001b[0m \u001b[0;32mimport\u001b[0m \u001b[0msys\u001b[0m\u001b[0;34m\u001b[0m\u001b[0;34m\u001b[0m\u001b[0m\n",
            "\u001b[0;31mModuleNotFoundError\u001b[0m: No module named 'backtrader'",
            "",
            "\u001b[0;31m---------------------------------------------------------------------------\u001b[0;32m\nNOTE: If your import is failing due to a missing package, you can\nmanually install dependencies using either !pip or !apt.\n\nTo view examples of installing some common dependencies, click the\n\"Open Examples\" button below.\n\u001b[0;31m---------------------------------------------------------------------------\u001b[0m\n"
          ],
          "errorDetails": {
            "actions": [
              {
                "action": "open_url",
                "actionText": "Open Examples",
                "url": "/notebooks/snippets/importing_libraries.ipynb"
              }
            ]
          }
        }
      ],
      "source": [
        "import backtrader as bt\n",
        "import logging\n",
        "import datetime\n",
        "import os.path\n",
        "import sys\n",
        "\n",
        "class StochasticSR(bt.Strategy):\n",
        "    '''Trading strategy that utilizes the Stochastic Oscillator indicator for oversold/overbought entry points, \n",
        "    and previous support/resistance via Donchian Channels as well as a max loss in pips for risk levels.'''\n",
        "    # parameters for Stochastic Oscillator and max loss in pips\n",
        "    # Donchian Channels to determine previous support/resistance levels will use the given period as well\n",
        "    params = (('period', 14), ('pfast', 3), ('pslow', 3), ('upperLimit', 80), ('lowerLimit', 20), ('stop_pips', .002))\n",
        "\n",
        "    def __init__(self):\n",
        "        '''Initializes logger and variables required for the strategy implementation.'''\n",
        "        # initialize logger for log function (set to critical to prevent any unwanted autologs, not using log objects because only care about logging one thing)\n",
        "        for handler in logging.root.handlers[:]:\n",
        "            logging.root.removeHandler(handler)\n",
        "\n",
        "        logging.basicConfig(format='%(message)s', level=logging.CRITICAL, handlers=[\n",
        "            logging.FileHandler(\"LOG.log\"),\n",
        "            logging.StreamHandler()\n",
        "            ])\n",
        "\n",
        "        self.order = None\n",
        "        self.donchian_stop_price = None\n",
        "        self.price = None\n",
        "        self.stop_price = None\n",
        "        self.stop_donchian = None\n",
        "\n",
        "        self.stochastic = bt.indicators.Stochastic(self.data, period=self.params.period, period_dfast=self.params.pfast, period_dslow=self.params.pslow, \n",
        "        upperband=self.params.upperLimit, lowerband=self.params.lowerLimit)\n",
        "\n",
        "    def log(self, txt, doprint=True):\n",
        "        '''logs the pricing, orders, pnl, time/date, etc for each trade made in this strategy to a LOG.log file as well as to the terminal.'''\n",
        "        date = self.data.datetime.date(0)\n",
        "        time = self.data.datetime.time(0)\n",
        "        if (doprint):\n",
        "            logging.critical(str(date) + ' ' + str(time) + ' -- ' + txt)\n",
        "\n",
        "\n",
        "    def notify_trade(self, trade):\n",
        "        '''Run on every next iteration, logs the P/L with and without commission whenever a trade is closed.'''\n",
        "        if trade.isclosed:\n",
        "            self.log('CLOSE -- P/L gross: {}  net: {}'.format(trade.pnl, trade.pnlcomm))\n",
        "\n",
        "\n",
        "    def notify_order(self, order):\n",
        "        '''Run on every next iteration, logs the order execution status whenever an order is filled or rejected, \n",
        "        setting the order parameter back to None if the order is filled or cancelled to denote that there are no more pending orders.'''\n",
        "        if order.status in [order.Submitted, order.Accepted]:\n",
        "            return\n",
        "        if order.status == order.Completed:\n",
        "            if order.isbuy():\n",
        "                self.log('BUY -- units: 10000  price: {}  value: {}  comm: {}'.format(order.executed.price, order.executed.value, order.executed.comm))\n",
        "                self.price = order.executed.price\n",
        "            elif order.issell():\n",
        "                self.log('SELL -- units: 10000  price: {}  value: {}  comm: {}'.format(order.executed.price, order.executed.value, order.executed.comm))\n",
        "                self.price = order.executed.price\n",
        "        elif order.status in [order.Rejected, order.Margin]:\n",
        "            self.log('Order rejected/margin')\n",
        "        \n",
        "        self.order = None\n",
        "\n",
        "\n",
        "    def stop(self):\n",
        "        '''At the end of the strategy backtest, logs the ending value of the portfolio as well as one or multiple parameter values for strategy optimization purposes.'''\n",
        "        self.log('(period {}) Ending Value: {}'.format(self.params.period, self.broker.getvalue()), doprint=True)\n",
        "\n",
        "\n",
        "    def next(self):\n",
        "        '''Checks to see if Stochastic Oscillator, position, and order conditions meet the entry or exit conditions for the execution of buy and sell orders.'''\n",
        "        if self.order:\n",
        "            # if there is a pending order, don't do anything\n",
        "            return\n",
        "        if self.position.size == 0:\n",
        "            # When stochastic crosses back below 80, enter short position.\n",
        "            if self.stochastic.lines.percD[-1] >= 80 and self.stochastic.lines.percD[0] <= 80:\n",
        "                # stop price at last support level in self.params.period periods\n",
        "                self.donchian_stop_price = max(self.data.high.get(size=self.params.period))\n",
        "                self.order = self.sell()\n",
        "                # stop loss order for max loss of self.params.stop_pips pips\n",
        "                self.stop_price = self.buy(exectype=bt.Order.Stop, price=self.data.close[0]+self.params.stop_pips, oco=self.stop_donchian)\n",
        "                # stop loss order for donchian SR price level\n",
        "                self.stop_donchian = self.buy(exectype=bt.Order.Stop, price=self.donchian_stop_price, oco=self.stop_price)\n",
        "            # when stochastic crosses back above 20, enter long position.\n",
        "            elif self.stochastic.lines.percD[-1] <= 20 and self.stochastic.lines.percD[0] >= 20:\n",
        "                # stop price at last resistance level in self.params.period periods\n",
        "                self.donchian_stop_price = min(self.data.low.get(size=self.params.period))\n",
        "                self.order = self.buy()\n",
        "                # stop loss order for max loss of self.params.stop_pips pips\n",
        "                self.stop_price = self.sell(exectype=bt.Order.Stop, price=self.data.close[0]-self.params.stop_pips, oco=self.stop_donchian)\n",
        "                # stop loss order for donchian SR price level\n",
        "                self.stop_donchian = self.sell(exectype=bt.Order.Stop, price=self.donchian_stop_price, oco=self.stop_price) \n",
        "  \n",
        "        if self.position.size > 0:\n",
        "            # When stochastic is above 70, close out of long position\n",
        "            if (self.stochastic.lines.percD[0] >= 70):\n",
        "                self.close(oco=self.stop_price)\n",
        "        if self.position.size < 0:\n",
        "            # When stochastic is below 30, close out of short position\n",
        "            if (self.stochastic.lines.percD[0] <= 30):\n",
        "                self.close(oco=self.stop_price)"
      ]
    },
    {
      "cell_type": "code",
      "source": [
        "import backtrader as bt\n",
        "import pandas as pd\n",
        "import os,sys,argparse\n",
        "import datetime\n",
        "import numpy as np # for optstrategy stop_pips, use linspace()\n",
        "from Stochastic_SR_Backtest import StochasticSR\n",
        "\n",
        "if __name__ == '__main__':\n",
        "    '''Main method for StochasticSR Strategy'''\n",
        "    cerebro = bt.Cerebro()\n",
        "\n",
        "    # CSV data from my data-getter application: https://github.com/GJason88/oanda-data-getter \n",
        "    eurusd_prices = pd.read_csv('mid_data_test.csv', parse_dates=True, index_col='Time')\n",
        "\n",
        "    # Data feed with compression of 60 minutes because mid_data_test.csv contains hourly candlestick data\n",
        "    feed = bt.feeds.PandasData(dataname=eurusd_prices, timeframe=bt.TimeFrame.Minutes, compression=60)\n",
        "    cerebro.adddata(feed)\n",
        "\n",
        "    ## optstrategy for strategy optimization, addstrategy to test current strategy parameters\n",
        "    # cerebro.optstrategy(StochasticSR, period=range(3,25))\n",
        "    cerebro.addstrategy(StochasticSR)\n",
        "\n",
        "    cerebro.broker.setcash(50000.0)\n",
        "\n",
        "    cerebro.broker.setcommission(commission=0)\n",
        "\n",
        "    cerebro.addsizer(bt.sizers.FixedSize, stake=10000)\n",
        "\n",
        "    ## Sharpe Ratio analyzer example, not too applicable without some adjustments\n",
        "    # cerebro.addanalyzer(bt.analyzers.SharpeRatio, _name='sharpe', riskfreerate=0, timeframe=bt.TimeFrame.Minutes, compression=60)\n",
        "    \n",
        "    strategy = cerebro.run()    \n",
        "    # print('Sharpe Ratio:', strategy[0].analyzers.sharpe.get_analysis())\n",
        "    cerebro.plot()\n"
      ],
      "metadata": {
        "id": "aY1BOvQi87bK"
      },
      "execution_count": null,
      "outputs": []
    }
  ]
}